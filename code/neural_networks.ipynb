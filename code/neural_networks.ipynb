{
 "cells": [
  {
   "cell_type": "code",
   "execution_count": 1,
   "metadata": {},
   "outputs": [],
   "source": [
    "import keras as keras\n",
    "import matplotlib.pyplot as plt\n",
    "from numpy import array  \n",
    "from numpy import argmax  \n",
    "from keras.utils import to_categorical\n",
    "from sklearn.model_selection import train_test_split\n",
    "from sklearn.datasets import load_iris\n",
    "from sklearn.utils import shuffle\n",
    "\n",
    "data = pd.read_excel('datasets\\Dry_Bean_Dataset.xlsx',engine='openpyxl')\n",
    "data.head()\n",
    "data.shape\n",
    "\n",
    "x_data = data.drop(columns='Class')\n",
    "y_data = data['Class']\n",
    "\n",
    "data = data.to_numpy()\n",
    "print(data)\n",
    "\n",
    "y_data = np.zeros(y_data.shape, int)\n",
    "\n",
    "encoded=tf.keras.utils.to_categorical(y_data-1, num_classes = 7)\n",
    "encoded.shape"
   ]
  },
  {
   "cell_type": "code",
   "execution_count": null,
   "metadata": {},
   "outputs": [],
   "source": [
    "# standardizing feature values\n",
    "np.mean(x_data, axis=0)\n",
    "np.std(x_data)\n",
    "\n",
    "formula = (x_data - np.mean(x_data, axis = 0)) / np.std(x_data, axis=0)\n",
    "print(formula)\n",
    "\n",
    "plt.boxplot(formula)\n",
    "\n",
    "x_train, x_test, y_train, y_test = train_test_split(x_data, encoded, test_size=3500,random_state=1)\n",
    "print( x_train, y_train, x_test, y_test)\n",
    "\n",
    "# creating, compiling and training the neural network model\n",
    "model = tf.keras.Sequential()\n",
    "model.add(tf.keras.layers.Input(shape=(16,)))\n",
    "model.add(tf.keras.layers.Dense(units=10, activation='sigmoid'))\n",
    "model.add(tf.keras.layers.Dense(units=7, activation='softmax'))\n",
    "\n",
    "print(model.summary())"
   ]
  },
  {
   "cell_type": "code",
   "execution_count": null,
   "metadata": {},
   "outputs": [],
   "source": [
    "lr = tf.keras.optimizers.Adam(learning_rate=0.01)\n",
    "mt = tf.keras.metrics.CategoricalAccuracy()\n",
    "\n",
    "model.compile(optimizer = lr, loss = tf.keras.losses.categorical_crossentropy , metrics = mt)\n",
    "\n",
    "history = model.fit(x_train, y_train, epochs=20, validation_data=(x_test, y_test))\n",
    "\n",
    "# plotting loss and accuracy changes\n",
    "plt.figure(figsize=[10,5])\n",
    "plt.plot(history.history['loss'], 'black', linewidth=2.0)\n",
    "plt.plot(history.history['val_loss'], 'blue', linewidth=2.0)\n",
    "plt.legend(['Training Loss', 'Validation Loss'], fontsize=14)\n",
    "plt.xlabel('Epochs', fontsize=10)\n",
    "plt.ylabel('Loss', fontsize=10)\n",
    "plt.title('Loss Curves', fontsize=12)\n",
    "\n",
    "# Plotting the accuracy curve\n",
    "plt.figure(figsize=[10,5])\n",
    "plt.plot(history.history['categorical_accuracy'], 'black', linewidth=2.0)  \n",
    "plt.plot(history.history['val_categorical_accuracy'], 'blue', linewidth=2.0)  \n",
    "plt.legend(['Training Accuracy', 'Validation Accuracy'], fontsize=14)\n",
    "plt.xlabel('Epochs', fontsize=10)\n",
    "plt.ylabel('Accuracy', fontsize=10)\n",
    "plt.title('Accuracy Curves', fontsize=12)"
   ]
  }
 ],
 "metadata": {
  "kernelspec": {
   "display_name": "Python 3",
   "language": "python",
   "name": "python3"
  },
  "language_info": {
   "codemirror_mode": {
    "name": "ipython",
    "version": 3
   },
   "file_extension": ".py",
   "mimetype": "text/x-python",
   "name": "python",
   "nbconvert_exporter": "python",
   "pygments_lexer": "ipython3",
   "version": "3.11.6"
  }
 },
 "nbformat": 4,
 "nbformat_minor": 2
}
