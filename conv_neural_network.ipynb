{
 "cells": [
  {
   "cell_type": "code",
   "execution_count": null,
   "metadata": {},
   "outputs": [],
   "source": [
    "import tensorflow as tf\n",
    "import matplotlib.pyplot as plt\n",
    "import pathlib\n",
    "import numpy as np\n",
    "\n",
    "dataset_url = 'https://storage.googleapis.com/download.tensorflow.org/example_images/flower_photos.tgz'\n",
    "archive = tf.keras.utils.get_file(origin=dataset_url, extract=True)\n",
    "data_dir = pathlib.Path(archive).with_suffix('')"
   ]
  },
  {
   "cell_type": "code",
   "execution_count": null,
   "metadata": {},
   "outputs": [],
   "source": [
    "data_train, data_test = tf.keras.utils.image_dataset_from_directory(directory=data_dir,batch_size=16, subset='both', seed=2, \n",
    "                                            image_size=(256,256), crop_to_aspect_ratio=True, \n",
    "                                            shuffle=True,validation_split=0.2, labels='inferred', label_mode='categorical')"
   ]
  },
  {
   "cell_type": "code",
   "execution_count": null,
   "metadata": {},
   "outputs": [],
   "source": [
    "X_batch, y_batch = next(iter(data_test))\n",
    "\n",
    "def plot_image_grid(image_data, rows, cols):\n",
    "    fig, axs = plt.subplots(nrows=4,ncols=4)\n",
    "    for i in range(4):\n",
    "        for j in range(4):\n",
    "            axs[i, j].imshow(X_batch[i * 4 + j] / 255)\n",
    "            axs[i, j].title.set_text(data_test.class_names[tf.argmax(y_batch[i * 4 + j])])\n",
    "\n",
    "plt.show()\n"
   ]
  },
  {
   "cell_type": "code",
   "execution_count": null,
   "metadata": {},
   "outputs": [],
   "source": [
    "# augmentation block\n",
    "block = tf.keras.Sequential()\n",
    "block.add(tf.keras.layers.RandomFlip(mode='horizontal'))\n",
    "block.add(tf.keras.layers.RandomRotation(factor=0.1))\n",
    "block.add(tf.keras.layers.RandomZoom(height_factor=0.2))\n",
    "block.add(tf.keras.layers.RandomBrightness(factor=0.2))\n",
    "\n",
    "result = block(X_batch)\n",
    "\n",
    "plot_image_grid(result, rows=4, cols=4)"
   ]
  },
  {
   "cell_type": "code",
   "execution_count": null,
   "metadata": {},
   "outputs": [],
   "source": [
    "# feature extraction\n",
    "feature_extraction = tf.keras.Sequential()\n",
    "feature_extraction.add(tf.keras.layers.Conv2D(kernel_size=(3,3),filters=16, activation='relu'))\n",
    "feature_extraction.add(tf.keras.layers.MaxPooling2D())\n",
    "\n",
    "feature_extraction.add(tf.keras.layers.Conv2D(kernel_size=(3,3),filters=32, activation='relu'))\n",
    "feature_extraction.add(tf.keras.layers.MaxPooling2D())\n",
    "\n",
    "feature_extraction.add(tf.keras.layers.Conv2D(kernel_size=(3,3),filters=64, activation='relu'))\n",
    "feature_extraction.add(tf.keras.layers.MaxPooling2D())\n",
    "\n",
    "feature_extraction.add(tf.keras.layers.Conv2D(kernel_size=(3,3),filters=128, activation='relu'))\n",
    "feature_extraction.add(tf.keras.layers.MaxPooling2D())\n",
    "\n",
    "# classification\n",
    "classification = tf.keras.Sequential()\n",
    "classification.add(tf.keras.layers.Dense(units=32, activation='relu'))\n",
    "classification.add(tf.keras.layers.Dense(units=5, activation='softmax'))\n",
    "\n",
    "# main CNN model\n",
    "main_model = tf.keras.Sequential()\n",
    "main_model.add(tf.keras.layers.Input(shape=(256,256,3)))\n",
    "main_model.add(block)\n",
    "main_model.add(tf.keras.layers.Rescaling(scale=1./255))\n",
    "main_model.add(feature_extraction)\n",
    "main_model.add(tf.keras.layers.Flatten())\n",
    "main_model.add(classification)\n",
    "\n",
    "main_model.summary(expand_nested=True)"
   ]
  },
  {
   "cell_type": "code",
   "execution_count": null,
   "metadata": {},
   "outputs": [],
   "source": [
    "main_model.compile(optimizer = tf.keras.optimizers.Adam(), \n",
    "              loss = tf.keras.losses.CategoricalCrossentropy(), \n",
    "              metrics = tf.keras.metrics.CategoricalAccuracy())\n",
    "\n",
    "history = main_model.fit(data_test, epochs= 10, validation_data=(data_test))\n",
    "\n",
    "plt.figure(figsize=[10,5])\n",
    "plt.plot(history.history['loss'], 'black', linewidth=2.0)\n",
    "plt.plot(history.history['val_loss'], 'blue', linewidth=2.0)\n",
    "plt.legend(['Training Loss', 'Validation Loss'], fontsize=14)\n",
    "plt.xlabel('Epochs', fontsize=10)\n",
    "plt.ylabel('Loss', fontsize=10)\n",
    "plt.title('Loss Curves', fontsize=12)\n",
    "\n",
    "plt.figure(figsize=[10,5])\n",
    "plt.plot(history.history['categorical_accuracy'], 'black', linewidth=2.0)  \n",
    "plt.plot(history.history['val_categorical_accuracy'], 'blue', linewidth=2.0)  \n",
    "plt.legend(['Training Accuracy', 'Validation Accuracy'], fontsize=14)\n",
    "plt.xlabel('Epochs', fontsize=10)\n",
    "plt.ylabel('Accuracy', fontsize=10)\n",
    "plt.title('Accuracy Curves', fontsize=12)"
   ]
  }
 ],
 "metadata": {
  "kernelspec": {
   "display_name": "Python 3",
   "language": "python",
   "name": "python3"
  },
  "language_info": {
   "codemirror_mode": {
    "name": "ipython",
    "version": 3
   },
   "file_extension": ".py",
   "mimetype": "text/x-python",
   "name": "python",
   "nbconvert_exporter": "python",
   "pygments_lexer": "ipython3",
   "version": "3.11.6"
  }
 },
 "nbformat": 4,
 "nbformat_minor": 2
}
